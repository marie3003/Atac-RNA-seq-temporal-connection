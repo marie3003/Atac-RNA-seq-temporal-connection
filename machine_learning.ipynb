{
 "cells": [
  {
   "cell_type": "code",
   "execution_count": 274,
   "metadata": {},
   "outputs": [],
   "source": [
    "import numpy as np\n",
    "import pandas as pd\n",
    "\n",
    "import scanpy as sc\n",
    "import anndata as ad\n",
    "import matplotlib.pyplot as plt\n",
    "\n",
    "from numpy.random import default_rng\n",
    "from collections import Counter\n",
    "\n",
    "import tensorflow as tf"
   ]
  },
  {
   "cell_type": "code",
   "execution_count": 275,
   "metadata": {},
   "outputs": [],
   "source": [
    "adata_atac = ad.read_h5ad('write/filtered_data_atac.h5ad')\n",
    "adata_gex = ad.read_h5ad('write/filtered_data_gex.h5ad')"
   ]
  },
  {
   "cell_type": "code",
   "execution_count": 276,
   "metadata": {},
   "outputs": [],
   "source": [
    "# splitting via site/donor\n",
    "\n",
    "#train_gex = adata_gex[adata_gex.obs.Samplename != 'site1_donor1_multiome']\n",
    "#test_gex = adata_gex[adata_gex.obs.Samplename == 'site1_donor1_multiome']"
   ]
  },
  {
   "cell_type": "code",
   "execution_count": 277,
   "metadata": {},
   "outputs": [],
   "source": [
    "# shuffle data\n",
    "np.random.seed(100)\n",
    "random_permutation = np.random.permutation(adata_atac.shape[0])\n",
    "adata_atac = adata_atac[random_permutation,:]\n",
    "adata_gex = adata_gex[random_permutation,:]"
   ]
  },
  {
   "cell_type": "code",
   "execution_count": 278,
   "metadata": {},
   "outputs": [],
   "source": [
    "# split data radnomly in train and test data\n",
    "cell_count = adata_gex.shape[0]\n",
    "\n",
    "#rng = default_rng()\n",
    "#test_index = np.sort(rng.choice(cell_count, size=int(0.1*cell_count), replace=False))\n",
    "#train_index = np.delete(np.arange(cell_count), test_index)\n",
    "\n",
    "test_index = np.arange(int(0.1*cell_count))\n",
    "train_index = np.arange(int(0.1*cell_count), cell_count)\n",
    "\n",
    "train_atac = adata_atac[train_index,:]\n",
    "train_gex = adata_gex[train_index,:]\n",
    "\n",
    "test_atac = adata_atac[test_index,:]\n",
    "test_gex = adata_gex[test_index,:]"
   ]
  },
  {
   "cell_type": "code",
   "execution_count": 279,
   "metadata": {},
   "outputs": [],
   "source": [
    "# GEX data is already normalized and logarithmized"
   ]
  },
  {
   "cell_type": "code",
   "execution_count": 280,
   "metadata": {},
   "outputs": [],
   "source": [
    "# do PCA?"
   ]
  },
  {
   "cell_type": "code",
   "execution_count": 281,
   "metadata": {},
   "outputs": [],
   "source": [
    "# build model\n",
    "model = tf.keras.Sequential([\n",
    "    tf.keras.layers.InputLayer(input_shape = (train_atac.shape[1],)),\n",
    "    tf.keras.layers.Dropout(0.1),\n",
    "    tf.keras.layers.Dense(8192, activation = 'relu'),\n",
    "    tf.keras.layers.Dropout(0.1),\n",
    "    tf.keras.layers.Dense(4096, activation = 'relu'),\n",
    "    tf.keras.layers.Dense(2048, activation = 'relu', name = 'output')\n",
    "])"
   ]
  },
  {
   "cell_type": "code",
   "execution_count": 282,
   "metadata": {},
   "outputs": [
    {
     "name": "stdout",
     "output_type": "stream",
     "text": [
      "Model: \"sequential_15\"\n",
      "_________________________________________________________________\n",
      " Layer (type)                Output Shape              Param #   \n",
      "=================================================================\n",
      " dropout_26 (Dropout)        (None, 32768)             0         \n",
      "                                                                 \n",
      " dense_30 (Dense)            (None, 8192)              268443648 \n",
      "                                                                 \n",
      " dropout_27 (Dropout)        (None, 8192)              0         \n",
      "                                                                 \n",
      " dense_31 (Dense)            (None, 4096)              33558528  \n",
      "                                                                 \n",
      " output (Dense)              (None, 2048)              8390656   \n",
      "                                                                 \n",
      "=================================================================\n",
      "Total params: 310,392,832\n",
      "Trainable params: 310,392,832\n",
      "Non-trainable params: 0\n",
      "_________________________________________________________________\n"
     ]
    }
   ],
   "source": [
    "model.summary()"
   ]
  },
  {
   "cell_type": "code",
   "execution_count": 283,
   "metadata": {},
   "outputs": [],
   "source": [
    "model.compile(optimizer='adam',\n",
    "            loss = tf.keras.losses.MeanSquaredLogarithmicError(),\n",
    "            metrics = [tf.keras.metrics.MeanSquaredError()])\n",
    "\n",
    "# no metrics needed: loss works to evaluate network (loss here meansquarederror)\n",
    "# loss = tf.keras.losses.MeanSquaredError()"
   ]
  },
  {
   "cell_type": "code",
   "execution_count": 284,
   "metadata": {},
   "outputs": [
    {
     "name": "stdout",
     "output_type": "stream",
     "text": [
      "Epoch 1/5\n"
     ]
    },
    {
     "name": "stderr",
     "output_type": "stream",
     "text": [
      "2022-04-26 14:36:40.062702: I tensorflow/core/grappler/optimizers/custom_graph_optimizer_registry.cc:113] Plugin optimizer for device_type GPU is enabled.\n"
     ]
    },
    {
     "name": "stdout",
     "output_type": "stream",
     "text": [
      "53/53 [==============================] - 27s 440ms/step - loss: 0.1140 - mean_squared_error: 0.4353\n",
      "Epoch 2/5\n",
      "53/53 [==============================] - 22s 410ms/step - loss: 0.1092 - mean_squared_error: 0.4080\n",
      "Epoch 3/5\n",
      "53/53 [==============================] - 22s 409ms/step - loss: 0.1079 - mean_squared_error: 0.4025\n",
      "Epoch 4/5\n",
      "53/53 [==============================] - 21s 404ms/step - loss: 0.1065 - mean_squared_error: 0.3966\n",
      "Epoch 5/5\n",
      "53/53 [==============================] - 21s 400ms/step - loss: 0.1054 - mean_squared_error: 0.3920\n"
     ]
    },
    {
     "data": {
      "text/plain": [
       "<keras.callbacks.History at 0x175e722b0>"
      ]
     },
     "execution_count": 284,
     "metadata": {},
     "output_type": "execute_result"
    }
   ],
   "source": [
    "model.fit(train_atac.X.toarray(), train_gex.X.toarray(), epochs=5, batch_size=128)"
   ]
  },
  {
   "cell_type": "code",
   "execution_count": 285,
   "metadata": {},
   "outputs": [],
   "source": [
    "model.compile(metrics = [tf.keras.metrics.MeanSquaredError()])"
   ]
  },
  {
   "cell_type": "code",
   "execution_count": 286,
   "metadata": {},
   "outputs": [
    {
     "name": "stderr",
     "output_type": "stream",
     "text": [
      "2022-04-26 14:38:31.656792: I tensorflow/core/grappler/optimizers/custom_graph_optimizer_registry.cc:113] Plugin optimizer for device_type GPU is enabled.\n"
     ]
    },
    {
     "name": "stdout",
     "output_type": "stream",
     "text": [
      "24/24 - 1s - loss: 0.0000e+00 - mean_squared_error: 0.4134 - 796ms/epoch - 33ms/step\n"
     ]
    },
    {
     "data": {
      "text/plain": [
       "[0.0, 0.4133606255054474]"
      ]
     },
     "execution_count": 286,
     "metadata": {},
     "output_type": "execute_result"
    }
   ],
   "source": [
    "model.evaluate(test_atac.X.toarray(),  test_gex.X.toarray(), verbose=2)"
   ]
  },
  {
   "cell_type": "markdown",
   "metadata": {},
   "source": [
    "### Ideas to improve network\n",
    "- using more epochs improves loss on train set but increases loss on test data (20% reached with 30 epochs on train data)\n",
    "- using 5 epochs resulted in the lowest loss for test_data\n",
    "- Huber loss leads to many genes with prediction zero, MeanSquaredLogarithmicError has a similar effect (weniger stark)\n",
    "- MeanSquaredLogarithmicError leads to smaller losses (but also smaller in general), mean_squared_error gets bigger"
   ]
  },
  {
   "cell_type": "code",
   "execution_count": 287,
   "metadata": {},
   "outputs": [
    {
     "data": {
      "text/plain": [
       "Text(0.5, 1.0, 'Average gene expression over all cells per gene')"
      ]
     },
     "execution_count": 287,
     "metadata": {},
     "output_type": "execute_result"
    },
    {
     "data": {
      "image/png": "[encoded data removed]",
      "text/plain": [
       "<Figure size 432x288 with 1 Axes>"
      ]
     },
     "metadata": {
      "needs_background": "light"
     },
     "output_type": "display_data"
    }
   ],
   "source": [
    "# training data\n",
    "\n",
    "avg_gex_pred_train = np.mean(model(train_atac.X.toarray()).numpy(), axis = 0)\n",
    "avg_gex_gt = np.array(np.mean(adata_gex.X, axis = 0)).flatten()\n",
    "\n",
    "plt.scatter(avg_gex_gt, avg_gex_pred_train)\n",
    "plt.xlabel('measured GEX')\n",
    "plt.ylabel('predicted GEX (train set)')\n",
    "plt.title('Average gene expression over all cells per gene')"
   ]
  },
  {
   "cell_type": "code",
   "execution_count": 288,
   "metadata": {},
   "outputs": [
    {
     "data": {
      "text/plain": [
       "Text(0.5, 1.0, 'Average gene expression over all cells per gene')"
      ]
     },
     "execution_count": 288,
     "metadata": {},
     "output_type": "execute_result"
    },
    {
     "data": {
      "image/png": "[encoded data removed]",
      "text/plain": [
       "<Figure size 432x288 with 1 Axes>"
      ]
     },
     "metadata": {
      "needs_background": "light"
     },
     "output_type": "display_data"
    }
   ],
   "source": [
    "# training data\n",
    "\n",
    "avg_gex_pred_test = np.mean(model(test_atac.X.toarray()).numpy(), axis = 0)\n",
    "avg_gex_gt = np.array(np.mean(adata_gex.X, axis = 0)).flatten()\n",
    "\n",
    "plt.scatter(avg_gex_gt, avg_gex_pred_test)\n",
    "plt.xlabel('measured GEX')\n",
    "plt.ylabel('predicted GEX (test data)')\n",
    "plt.title('Average gene expression over all cells per gene')"
   ]
  },
  {
   "cell_type": "code",
   "execution_count": null,
   "metadata": {},
   "outputs": [],
   "source": []
  }
 ],
 "metadata": {
  "interpreter": {
   "hash": "e1a6c0bfb5c9d3bd4ab5d1eca090c94db9f456dd99c027cbc9f15513f4d9407b"
  },
  "kernelspec": {
   "display_name": "Python 3.9.4 ('bt': venv)",
   "language": "python",
   "name": "python3"
  },
  "language_info": {
   "codemirror_mode": {
    "name": "ipython",
    "version": 3
   },
   "file_extension": ".py",
   "mimetype": "text/x-python",
   "name": "python",
   "nbconvert_exporter": "python",
   "pygments_lexer": "ipython3",
   "version": "3.9.12"
  },
  "orig_nbformat": 4
 },
 "nbformat": 4,
 "nbformat_minor": 2
}
